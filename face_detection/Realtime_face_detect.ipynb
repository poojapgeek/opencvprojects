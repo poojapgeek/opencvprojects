{
 "cells": [
  {
   "cell_type": "code",
   "execution_count": 1,
   "id": "ae3f4422-3133-4a7c-947f-47441b861de7",
   "metadata": {},
   "outputs": [],
   "source": [
    "import numpy as np\n",
    "import cv2"
   ]
  },
  {
   "cell_type": "code",
   "execution_count": 2,
   "id": "0d90077e-c83b-4556-bb78-2babf1a256aa",
   "metadata": {},
   "outputs": [],
   "source": [
    "face_cascade=cv2.CascadeClassifier('./model/haarcascade_frontalface_default.xml')"
   ]
  },
  {
   "cell_type": "code",
   "execution_count": 3,
   "id": "0b039ad8-6c29-4038-94fc-aa186b7b6047",
   "metadata": {},
   "outputs": [],
   "source": [
    "def function(img):\n",
    "    image=img.copy()\n",
    "    gray=cv2.cvtColor(img,cv2.COLOR_BGR2GRAY)\n",
    "    box,detections=face_cascade.detectMultiScale2(gray,minNeighbors=8)\n",
    "    for x,y,w,h in box:\n",
    "        cv2.rectangle(image,(x,y),(x+w,y+h),(0,255,0),2)\n",
    "    return image    "
   ]
  },
  {
   "cell_type": "code",
   "execution_count": 4,
   "id": "302ee510-28ed-4fb1-8747-386c26a7f23d",
   "metadata": {},
   "outputs": [],
   "source": [
    "cap=cv2.VideoCapture(0)\n",
    "\n",
    "while True:\n",
    "    ret,frame=cap.read()\n",
    "    if ret==False:\n",
    "        break\n",
    "    img_detect=function(frame)  \n",
    "    cv2.imshow('Facedetect',img_detect)\n",
    "    if cv2.waitKey(1)==ord('a'):\n",
    "        break\n",
    "\n",
    "cap.release()\n",
    "cv2.destroyAllWindows()"
   ]
  },
  {
   "cell_type": "code",
   "execution_count": null,
   "id": "416c7608-62bc-4709-bbad-216dd04ceb16",
   "metadata": {},
   "outputs": [],
   "source": []
  },
  {
   "cell_type": "code",
   "execution_count": null,
   "id": "d956979f-1d49-4954-a8e1-bdd7aa1c2ead",
   "metadata": {},
   "outputs": [],
   "source": []
  },
  {
   "cell_type": "code",
   "execution_count": null,
   "id": "d4ef15b3-dc9c-44fa-927c-b0901f7c588f",
   "metadata": {},
   "outputs": [],
   "source": []
  }
 ],
 "metadata": {
  "kernelspec": {
   "display_name": "Python 3 (ipykernel)",
   "language": "python",
   "name": "python3"
  },
  "language_info": {
   "codemirror_mode": {
    "name": "ipython",
    "version": 3
   },
   "file_extension": ".py",
   "mimetype": "text/x-python",
   "name": "python",
   "nbconvert_exporter": "python",
   "pygments_lexer": "ipython3",
   "version": "3.12.3"
  }
 },
 "nbformat": 4,
 "nbformat_minor": 5
}
