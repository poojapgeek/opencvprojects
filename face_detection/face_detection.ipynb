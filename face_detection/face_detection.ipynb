{
 "cells": [
  {
   "cell_type": "code",
   "execution_count": 1,
   "id": "d5e9ac7d-06b9-445f-91d1-79b55036e9af",
   "metadata": {},
   "outputs": [],
   "source": [
    "import numpy as np\n",
    "import cv2"
   ]
  },
  {
   "cell_type": "code",
   "execution_count": 2,
   "id": "073ef176-6d4d-4035-a546-9e021a8f374a",
   "metadata": {},
   "outputs": [],
   "source": [
    "img=cv2.imread('./faces.png')\n",
    "\n",
    "cv2.imshow('faces',img)\n",
    "cv2.waitKey(0)\n",
    "cv2.destroyAllWindows()"
   ]
  },
  {
   "cell_type": "code",
   "execution_count": 3,
   "id": "76cfc151-2d8e-4809-89b9-677c48aedd46",
   "metadata": {},
   "outputs": [],
   "source": [
    "face_cascade=cv2.CascadeClassifier('./model/haarcascade_frontalface_default.xml')"
   ]
  },
  {
   "cell_type": "code",
   "execution_count": 4,
   "id": "70f1fd89-7b3b-4ef0-ad73-4eb31c4f4445",
   "metadata": {},
   "outputs": [],
   "source": [
    "#convert image to grayscale"
   ]
  },
  {
   "cell_type": "code",
   "execution_count": 6,
   "id": "28d981e0-e185-47db-986d-784fa680e8f9",
   "metadata": {},
   "outputs": [],
   "source": [
    "def function(img):\n",
    "    image=img.copy()\n",
    "    gray=cv2.cvtColor(img,cv2.COLOR_BGR2GRAY)\n",
    "    box,detections=face_cascade.detectMultiScale2(gray,minNeighbors=8)\n",
    "    for x,y,w,h in box:\n",
    "        cv2.rectangle(image,(x,y),(x+w,y+h),(0,255,0),2)\n",
    "    return image    \n"
   ]
  },
  {
   "cell_type": "code",
   "execution_count": null,
   "id": "4a4fc1c4-1d55-4ccb-a852-58c28d072a64",
   "metadata": {},
   "outputs": [],
   "source": [
    "img_detect=function(img)\n",
    "\n",
    "cv2.imshow('Face detection',img_detect)\n",
    "cv2.waitKey(0)\n",
    "cv2.destroyAllWindows()"
   ]
  },
  {
   "cell_type": "code",
   "execution_count": 53,
   "id": "af2091a0-c216-4fdb-b395-684e862f3526",
   "metadata": {},
   "outputs": [
    {
     "data": {
      "text/plain": [
       "array([[349,  88, 161, 161],\n",
       "       [193, 103, 200, 200],\n",
       "       [480, 119, 158, 158],\n",
       "       [ 78, 117, 172, 172],\n",
       "       [610, 136, 166, 166]])"
      ]
     },
     "execution_count": 53,
     "metadata": {},
     "output_type": "execute_result"
    }
   ],
   "source": [
    "box"
   ]
  },
  {
   "cell_type": "code",
   "execution_count": 27,
   "id": "fb4ef565-30e3-44bb-abe6-3c1a4e3442b2",
   "metadata": {},
   "outputs": [
    {
     "data": {
      "text/plain": [
       "()"
      ]
     },
     "execution_count": 27,
     "metadata": {},
     "output_type": "execute_result"
    }
   ],
   "source": [
    "detections"
   ]
  },
  {
   "cell_type": "code",
   "execution_count": null,
   "id": "49c0745f-f432-46a4-8ccc-29d2144d65d6",
   "metadata": {},
   "outputs": [],
   "source": []
  },
  {
   "cell_type": "code",
   "execution_count": null,
   "id": "e9421672-670f-4c2d-9950-d058ffde2649",
   "metadata": {},
   "outputs": [],
   "source": []
  },
  {
   "cell_type": "code",
   "execution_count": null,
   "id": "113d99bd-f14a-4733-969e-8dbdbf324579",
   "metadata": {},
   "outputs": [],
   "source": []
  }
 ],
 "metadata": {
  "kernelspec": {
   "display_name": "Python 3 (ipykernel)",
   "language": "python",
   "name": "python3"
  },
  "language_info": {
   "codemirror_mode": {
    "name": "ipython",
    "version": 3
   },
   "file_extension": ".py",
   "mimetype": "text/x-python",
   "name": "python",
   "nbconvert_exporter": "python",
   "pygments_lexer": "ipython3",
   "version": "3.12.3"
  }
 },
 "nbformat": 4,
 "nbformat_minor": 5
}
